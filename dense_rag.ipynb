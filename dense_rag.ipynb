{
 "cells": [
  {
   "cell_type": "code",
   "execution_count": null,
   "metadata": {},
   "outputs": [
    {
     "data": {
      "text/plain": [
       "True"
      ]
     },
     "execution_count": 84,
     "metadata": {},
     "output_type": "execute_result"
    }
   ],
   "source": [
    "import os\n",
    "from dotenv import load_dotenv\n",
    "from langchain_groq import ChatGroq\n",
    "from langchain.llms.ollama import Ollama\n",
    "from langchain_community.vectorstores import Chroma\n",
    "from langchain.chains import create_retrieval_chain\n",
    "from langchain_core.prompts import ChatPromptTemplate\n",
    "from langchain.chains.combine_documents import create_stuff_documents_chain\n",
    "\n",
    "load_dotenv()"
   ]
  },
  {
   "cell_type": "code",
   "execution_count": 85,
   "metadata": {},
   "outputs": [],
   "source": [
    "os.environ['GROQ_API_KEY'] = os.getenv('GROQ_API_KEY')\n",
    "os.environ['LANGCHAIN_API_KEY'] = os.getenv('LANGCHAIN_API_KEY')\n",
    "os.environ['LANGCHAIN_TRACING_V2'] = os.getenv('LANGCHAIN_TRACING_V2')\n",
    "os.environ['LANGCHAIN_ENDPOINT'] = os.getenv('LANGCHAIN_ENDPOINT')\n",
    "os.environ['LANGCHAIN_PROJECT'] = os.getenv('LANGCHAIN_PROJECT')"
   ]
  },
  {
   "cell_type": "code",
   "execution_count": 93,
   "metadata": {},
   "outputs": [],
   "source": [
    "llm_light = ChatGroq(model_name='llama3-70b-8192',\n",
    "                    temperature=0,\n",
    "                    streaming=True)\n",
    "\n",
    "# llm_light = Ollama(model='gemma2:2b')"
   ]
  },
  {
   "cell_type": "code",
   "execution_count": null,
   "metadata": {},
   "outputs": [],
   "source": [
    "prompt_q_optimization = \"\"\"You are a Query Optimizer designed to enhance user queries for use in a Retrieval-Augmented Generation (RAG) system. \n",
    "Your task is to transform user queries into optimized versions that retrieve the most relevant documents when processed with sentence transformers. \n",
    "Follow these rules:\n",
    "1. Only generate the optimized query. Do not include supporting text, explanations, or additional comments.\n",
    "2. Use the provided document name ({doc_name}) if it improves query optimization; otherwise, ignore it, as it might be irrelevant or random.\n",
    "3. Ensure the optimized query is concise, semantically rich, and tailored for high precision and relevance.\n",
    "\n",
    "Input: {input}\"\"\"\n",
    "\n",
    "prompt_q_optimization_template = ChatPromptTemplate.from_messages(\n",
    "    [\n",
    "        (\"system\", prompt_q_optimization),\n",
    "\n",
    "        (\"human\", \"What is the weather in Paris today?\"),\n",
    "        (\"ai\", \"weather Paris today\"),\n",
    "        \n",
    "        (\"human\", \"Show me recent advancements in artificial intelligence research.\"),\n",
    "        (\"ai\", \"recent advancements artificial intelligence research\"),\n",
    "        \n",
    "        (\"human\", \"Explain the use of transformers in deep learning.\"),\n",
    "        (\"ai\", \"transformers deep learning applications uses\"),\n",
    "        \n",
    "        (\"human\", \"Find me details about the Eiffel Tower.\"),\n",
    "        (\"ai\", \"Eiffel Tower details additional information\"),\n",
    "        \n",
    "        (\"human\", \"{input}\")\n",
    "    ]\n",
    ")\n"
   ]
  },
  {
   "cell_type": "code",
   "execution_count": 107,
   "metadata": {},
   "outputs": [],
   "source": [
    "formatted_p = prompt_q_optimization_template.format_messages(\n",
    "    doc_name = 'bahria_university_handbook.pdf',\n",
    "    input = \"How to freeze the semester?\"\n",
    ")"
   ]
  },
  {
   "cell_type": "code",
   "execution_count": 108,
   "metadata": {},
   "outputs": [
    {
     "data": {
      "text/plain": [
       "AIMessage(content='semester freeze policy procedure bahria university', additional_kwargs={}, response_metadata={'finish_reason': 'stop'}, id='run-7531134c-4496-48dc-98c1-c76fd184fe20-0', usage_metadata={'input_tokens': 263, 'output_tokens': 8, 'total_tokens': 271})"
      ]
     },
     "execution_count": 108,
     "metadata": {},
     "output_type": "execute_result"
    }
   ],
   "source": [
    "llm_light.invoke(formatted_p)"
   ]
  }
 ],
 "metadata": {
  "kernelspec": {
   "display_name": "genai",
   "language": "python",
   "name": "python3"
  },
  "language_info": {
   "codemirror_mode": {
    "name": "ipython",
    "version": 3
   },
   "file_extension": ".py",
   "mimetype": "text/x-python",
   "name": "python",
   "nbconvert_exporter": "python",
   "pygments_lexer": "ipython3",
   "version": "3.10.15"
  }
 },
 "nbformat": 4,
 "nbformat_minor": 2
}
